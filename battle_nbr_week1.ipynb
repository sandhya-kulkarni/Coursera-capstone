{
 "cells": [
  {
   "cell_type": "markdown",
   "metadata": {},
   "source": [
    "# The Battle of Neighborhoods (Week 1)"
   ]
  },
  {
   "cell_type": "markdown",
   "metadata": {},
   "source": [
    "## Introduction"
   ]
  },
  {
   "cell_type": "markdown",
   "metadata": {},
   "source": [
    "#### Finding a house in a new city, especially in a foreign coutry is a challenging task that becomes even more difficult when you have school-going children. When I search for a house, a keyfactor would be the availability of nearby good schools. In this project, I  plan to consider the city of Preston, England. Preston is a city and the administrative centre of Lancashire, England, on the north bank of the River Ribble [1].\n",
    "####  All state-maintained schools in England are inspected by Ofsted. This includes local authority-run schools, academies and free schools, as well as non-maintained special schools, pupil referral units and further education/sixth form colleges. Ofsted inspectors look at four main areas: Quality of education, Behaviour and attitudes, Personal development of pupils Leadership. Schools receive a judgement for each of the four inspection areas, and an overall judgement [2]. There are four numerical grades: \n",
    "####    1: Outstanding\n",
    "####    2: Good\n",
    "####    3: Requires Improvement\n",
    "####    4: Inadequate\n",
    "#### There's no doubt that inspection reports are an important factor when parents choose a school for their children – the second most important factor (50%) after proximity to home (61%), according to Ofsted’s 2017 survey of parents [2]. In this project work, I am going to cluster the neighbourhoods of the city Preston to find out which locality has more number of outstanding and good schools. With this if I take other factors into account such as distance from central bus station or train station to the clustered localities then it would give me an idea which part of the Preston city is good for families to move in."
   ]
  },
  {
   "cell_type": "markdown",
   "metadata": {},
   "source": [
    "## Data requirements\n",
    "##### A. Geographical location data: This data can be obtained by using the link https://en.wikipedia.org/wiki/Districts_of_Preston. \n",
    "##### B. Foursquare API : Using Foursquare API schools and their latitude and longitudes located in the Preston city can be obtained.\n",
    "##### C. Ofsted report of Preston city schools: Ofsted report on Preston city schools can be obtained using the link https://www.compare-school-performance.service.gov.uk/schools-by-type?step=default&table=schools&parliamentary=Preston&geographic=parliamentary&for=ofsted .\n"
   ]
  },
  {
   "cell_type": "markdown",
   "metadata": {},
   "source": [
    "## Expected outcome \n",
    "##### Which parts of the Preston city have oustanding/good schools?\n",
    "##### How many oustanding/good schools are there in the Preston city?\n"
   ]
  },
  {
   "cell_type": "markdown",
   "metadata": {},
   "source": [
    "## References\n",
    "1. https://en.wikipedia.org/wiki/Preston,_Lancashire\n",
    "2. https://www.theschoolrun.com/ofsted-inspections-explained-for-parents\n",
    "3. https://www.compare-school-performance.service.gov.uk/schools-by-type?step=default&table=schools&parliamentary=Preston&geographic=parliamentary&for=ofsted\n",
    "4. https://en.wikipedia.org/wiki/Districts_of_Preston"
   ]
  },
  {
   "cell_type": "code",
   "execution_count": null,
   "metadata": {},
   "outputs": [],
   "source": []
  }
 ],
 "metadata": {
  "kernelspec": {
   "display_name": "Python 3",
   "language": "python",
   "name": "python3"
  },
  "language_info": {
   "codemirror_mode": {
    "name": "ipython",
    "version": 3
   },
   "file_extension": ".py",
   "mimetype": "text/x-python",
   "name": "python",
   "nbconvert_exporter": "python",
   "pygments_lexer": "ipython3",
   "version": "3.7.3"
  }
 },
 "nbformat": 4,
 "nbformat_minor": 4
}
